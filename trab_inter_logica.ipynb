{
 "cells": [
  {
   "cell_type": "code",
   "execution_count": 1,
   "id": "a757da5b",
   "metadata": {},
   "outputs": [
    {
     "name": "stderr",
     "output_type": "stream",
     "text": [
      "C:\\Users\\User\\anaconda3\\lib\\site-packages\\sklearn\\utils\\validation.py:63: FutureWarning: Arrays of bytes/strings is being converted to decimal numbers if dtype='numeric'. This behavior is deprecated in 0.24 and will be removed in 1.1 (renaming of 0.26). Please convert your data to numeric values explicitly instead.\n",
      "  return f(*args, **kwargs)\n"
     ]
    },
    {
     "name": "stdout",
     "output_type": "stream",
     "text": [
      "\n",
      "\n",
      "Primeiro Nome: vitor\n",
      "Segundo Nome: gustavo\n",
      "Terceiro Nome: lara\n"
     ]
    },
    {
     "name": "stderr",
     "output_type": "stream",
     "text": [
      "C:\\Users\\User\\anaconda3\\lib\\site-packages\\sklearn\\utils\\validation.py:63: FutureWarning: Arrays of bytes/strings is being converted to decimal numbers if dtype='numeric'. This behavior is deprecated in 0.24 and will be removed in 1.1 (renaming of 0.26). Please convert your data to numeric values explicitly instead.\n",
      "  return f(*args, **kwargs)\n",
      "C:\\Users\\User\\anaconda3\\lib\\site-packages\\sklearn\\utils\\validation.py:63: FutureWarning: Arrays of bytes/strings is being converted to decimal numbers if dtype='numeric'. This behavior is deprecated in 0.24 and will be removed in 1.1 (renaming of 0.26). Please convert your data to numeric values explicitly instead.\n",
      "  return f(*args, **kwargs)\n",
      "C:\\Users\\User\\anaconda3\\lib\\site-packages\\sklearn\\utils\\validation.py:63: FutureWarning: Arrays of bytes/strings is being converted to decimal numbers if dtype='numeric'. This behavior is deprecated in 0.24 and will be removed in 1.1 (renaming of 0.26). Please convert your data to numeric values explicitly instead.\n",
      "  return f(*args, **kwargs)\n"
     ]
    },
    {
     "name": "stdout",
     "output_type": "stream",
     "text": [
      "\n",
      "\n",
      "vitor é Masculino\n",
      "gustavo é Masculino\n",
      "lara é Feminino\n",
      "\n",
      "\n",
      "Primeiro Nome: \n",
      "Segundo Nome: \n",
      "Terceiro Nome: \n"
     ]
    },
    {
     "ename": "IndexError",
     "evalue": "string index out of range",
     "output_type": "error",
     "traceback": [
      "\u001b[1;31m---------------------------------------------------------------------------\u001b[0m",
      "\u001b[1;31mIndexError\u001b[0m                                Traceback (most recent call last)",
      "\u001b[1;32m<ipython-input-1-670ecbb70f0a>\u001b[0m in \u001b[0;36m<module>\u001b[1;34m\u001b[0m\n\u001b[0;32m     59\u001b[0m \u001b[1;33m\u001b[0m\u001b[0m\n\u001b[0;32m     60\u001b[0m         \u001b[1;32mfor\u001b[0m \u001b[0mi\u001b[0m \u001b[1;32min\u001b[0m \u001b[0mrange\u001b[0m\u001b[1;33m(\u001b[0m\u001b[1;36m0\u001b[0m\u001b[1;33m,\u001b[0m \u001b[1;36m1264\u001b[0m\u001b[1;33m)\u001b[0m\u001b[1;33m:\u001b[0m\u001b[1;33m\u001b[0m\u001b[1;33m\u001b[0m\u001b[0m\n\u001b[1;32m---> 61\u001b[1;33m             \u001b[1;32mif\u001b[0m \u001b[1;33m(\u001b[0m\u001b[0mnomes\u001b[0m\u001b[1;33m[\u001b[0m\u001b[0mi\u001b[0m\u001b[1;33m]\u001b[0m\u001b[1;33m[\u001b[0m\u001b[1;33m-\u001b[0m\u001b[1;36m1\u001b[0m\u001b[1;33m]\u001b[0m \u001b[1;33m==\u001b[0m \u001b[0mverificar\u001b[0m\u001b[1;33m[\u001b[0m\u001b[0mj\u001b[0m\u001b[1;33m]\u001b[0m\u001b[1;33m[\u001b[0m\u001b[1;33m-\u001b[0m\u001b[1;36m1\u001b[0m\u001b[1;33m]\u001b[0m\u001b[1;33m)\u001b[0m\u001b[1;33m:\u001b[0m\u001b[1;33m\u001b[0m\u001b[1;33m\u001b[0m\u001b[0m\n\u001b[0m\u001b[0;32m     62\u001b[0m                 \u001b[0mnomeDadosUm\u001b[0m \u001b[1;33m=\u001b[0m \u001b[0mbaseDados\u001b[0m\u001b[1;33m[\u001b[0m\u001b[0mi\u001b[0m\u001b[1;33m]\u001b[0m\u001b[1;33m[\u001b[0m\u001b[1;36m0\u001b[0m\u001b[1;33m]\u001b[0m\u001b[1;33m\u001b[0m\u001b[1;33m\u001b[0m\u001b[0m\n\u001b[0;32m     63\u001b[0m                 \u001b[1;32mbreak\u001b[0m\u001b[1;33m\u001b[0m\u001b[1;33m\u001b[0m\u001b[0m\n",
      "\u001b[1;31mIndexError\u001b[0m: string index out of range"
     ]
    }
   ],
   "source": [
    "import pandas as pd\n",
    "import numpy as np\n",
    "from sklearn.naive_bayes import GaussianNB\n",
    "from sklearn.preprocessing import LabelEncoder\n",
    "\n",
    "baseNomes = pd.read_csv('nomes.csv')\n",
    "\n",
    "nomes = baseNomes.iloc[:, 0].values\n",
    "genero = baseNomes.iloc[:, 1].values\n",
    "\n",
    "baseDados = []\n",
    "aux = []\n",
    "\n",
    "for i in nomes:\n",
    "    aux.append(i[-1])\n",
    "    aux.append(i[-2] + i[-1])\n",
    "    baseDados.append(aux)\n",
    "    aux = []\n",
    "\n",
    "baseDados = np.array(baseDados)\n",
    "\n",
    "labelEncoderUltimaLetra = LabelEncoder()\n",
    "labelEncoderDuasUltimasLetras = LabelEncoder()\n",
    "\n",
    "baseDados[:,0] = labelEncoderUltimaLetra.fit_transform(baseDados[:,0])\n",
    "baseDados[:,1] = labelEncoderDuasUltimasLetras.fit_transform(baseDados[:,1])\n",
    "\n",
    "naiveNomes = GaussianNB()\n",
    "naiveNomes.fit(baseDados, genero)\n",
    "\n",
    "def nayveBaies(nome, nomes, baseDados, naiveNomes):\n",
    "    nomeDadosUm = 0\n",
    "    nomeDadosDois = 0\n",
    "\n",
    "    for i in range(0, 1264):\n",
    "        if (nomes[i][-1] == nome[-1]):\n",
    "            nomeDadosUm = baseDados[i][0]\n",
    "            break\n",
    "\n",
    "    for i in range(0, 1264):\n",
    "        if (nomes[i][-1] == nome[-1] and nomes[i][-2] == nome[-2]):\n",
    "            nomeDadosDois = baseDados[i][1]\n",
    "            break\n",
    "\n",
    "    previsao = naiveNomes.predict([[nomeDadosUm, nomeDadosDois], [nomeDadosUm, nomeDadosDois]])\n",
    "\n",
    "    return previsao[0]\n",
    "\n",
    "while(True):\n",
    "    nomeUm = input('\\n\\nPrimeiro Nome: ')\n",
    "    nomeDois = input('Segundo Nome: ')\n",
    "    nomeTres = input('Terceiro Nome: ')\n",
    "    verificar = [nomeUm, nomeDois, nomeTres]\n",
    "    aux = []\n",
    "\n",
    "    for j in range(0, 3):\n",
    "        nomeDadosUm = 0\n",
    "        nomeDadosDois = 0\n",
    "\n",
    "        for i in range(0, 1264):\n",
    "            if (nomes[i][-1] == verificar[j][-1]):\n",
    "                nomeDadosUm = baseDados[i][0]\n",
    "                break\n",
    "\n",
    "        for i in range(0, 1264):\n",
    "            if (nomes[i][-1] ==  verificar[j][-1] and nomes[i][-2] ==  verificar[j][-2]):\n",
    "                nomeDadosDois = baseDados[i][1]\n",
    "                break\n",
    "\n",
    "        previsao = naiveNomes.predict([[nomeDadosUm, nomeDadosDois], [nomeDadosUm, nomeDadosDois]])\n",
    "        aux.append(previsao[0])\n",
    "    \n",
    "    print('\\n')\n",
    "    for i in range(0, 3):\n",
    "        if (aux[i] == 'M'):\n",
    "            print(verificar[i] + ' é Masculino')\n",
    "        elif (aux[i] == 'F'):\n",
    "            print(verificar[i] + ' é Feminino')\n"
   ]
  },
  {
   "cell_type": "code",
   "execution_count": null,
   "id": "bcc045c9",
   "metadata": {},
   "outputs": [],
   "source": []
  }
 ],
 "metadata": {
  "kernelspec": {
   "display_name": "Python 3 (ipykernel)",
   "language": "python",
   "name": "python3"
  },
  "language_info": {
   "codemirror_mode": {
    "name": "ipython",
    "version": 3
   },
   "file_extension": ".py",
   "mimetype": "text/x-python",
   "name": "python",
   "nbconvert_exporter": "python",
   "pygments_lexer": "ipython3",
   "version": "3.9.7"
  }
 },
 "nbformat": 4,
 "nbformat_minor": 5
}
